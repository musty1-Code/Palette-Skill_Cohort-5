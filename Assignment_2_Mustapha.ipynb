{
 "cells": [
  {
   "cell_type": "code",
   "execution_count": 1,
   "metadata": {},
   "outputs": [],
   "source": [
    "# Importing Numpy Library\n",
    "import numpy as np"
   ]
  },
  {
   "cell_type": "code",
   "execution_count": 2,
   "metadata": {},
   "outputs": [
    {
     "name": "stdout",
     "output_type": "stream",
     "text": [
      "2D Array:\n",
      "[[4 6 5 3 9]\n",
      " [9 1 3 7 3]\n",
      " [8 6 5 4 4]\n",
      " [8 9 9 8 6]]\n",
      "\n",
      "Maximum value of the entire array: 9\n"
     ]
    }
   ],
   "source": [
    "# Assignment 2, Exerc. 1 : Create a 2D numpy array of size 4x5 with random integers between 1 and 10. Find the maximum value of the entire array.\n",
    "\n",
    "# Creating a 4x5 2D NumPy array with random integers between 1 and 10\n",
    "array_2d = np.random.randint(1, 11, size=(4, 5))\n",
    "\n",
    "print(\"2D Array:\")\n",
    "print(array_2d)\n",
    "\n",
    "# Finding the maximum value of the entire array\n",
    "max_value = np.max(array_2d)\n",
    "\n",
    "print(\"\\nMaximum value of the entire array:\", max_value)\n",
    "\n"
   ]
  },
  {
   "cell_type": "code",
   "execution_count": 3,
   "metadata": {},
   "outputs": [
    {
     "name": "stdout",
     "output_type": "stream",
     "text": [
      "Original 2D Array:\n",
      "[[0.20644311 0.71806728 0.62744882 0.73424716 0.30983444]\n",
      " [0.3700544  0.40791357 0.65276474 0.72932752 0.92487246]\n",
      " [0.72486257 0.74565844 0.55103498 0.03037141 0.43602991]\n",
      " [0.59714919 0.60623611 0.06354576 0.09714707 0.16356929]]\n",
      "\n",
      "Mean of each row:\n",
      "[0.51920816 0.61698654 0.49759146 0.30552948]\n"
     ]
    }
   ],
   "source": [
    "# Assignment 2, Exerc. 2 : Create a 1D numpy array of size 20 with random floats between 0 and 1. Reshape the array into a 4x5 matrix. Compute the mean of each row.\n",
    "\n",
    "# Creating a 1D NumPy array of size 20 with random floats between 0 and 1\n",
    "array_1d = np.random.random(20)\n",
    "\n",
    "# Reshaping the array into a 4x5 matrix\n",
    "array_2d = array_1d.reshape(4, 5)\n",
    "\n",
    "print(\"Original 2D Array:\")\n",
    "print(array_2d)\n",
    "\n",
    "# Computing the mean of each row\n",
    "row_means = np.mean(array_2d, axis=1)\n",
    "\n",
    "print(\"\\nMean of each row:\")\n",
    "print(row_means)\n"
   ]
  },
  {
   "cell_type": "code",
   "execution_count": 4,
   "metadata": {},
   "outputs": [
    {
     "name": "stdout",
     "output_type": "stream",
     "text": [
      "2D Array:\n",
      "[[ 5 86 35 19 87]\n",
      " [ 6 64 36 85 27]\n",
      " [89 85 69 75 66]\n",
      " [27 13 35  9 63]\n",
      " [99 21 76 64 17]]\n",
      "\n",
      "Standard deviation of each column:\n",
      "[40.73524273 31.16023106 18.34557167 30.61764197 26.04611295]\n"
     ]
    }
   ],
   "source": [
    "# Assignment 2, Exerc. 3 : Create a 2D numpy array of size 5x5 with random integers between 1 and 100. Compute standard deviation of each column.\n",
    "\n",
    "# Creating a 5x5 2D NumPy array with random integers between 1 and 100\n",
    "array_2d = np.random.randint(1, 101, size=(5, 5))\n",
    "\n",
    "print(\"2D Array:\")\n",
    "print(array_2d)\n",
    "\n",
    "# Computing the standard deviation of each column\n",
    "column_std_dev = np.std(array_2d, axis=0)\n",
    "\n",
    "print(\"\\nStandard deviation of each column:\")\n",
    "print(column_std_dev)\n"
   ]
  },
  {
   "cell_type": "code",
   "execution_count": 5,
   "metadata": {},
   "outputs": [
    {
     "name": "stdout",
     "output_type": "stream",
     "text": [
      "Original Array:\n",
      "[-6.5895412   4.0950252  -6.81831989 -5.90647672  0.4966918  -7.29010514\n",
      "  9.69238474 -7.60448227 -9.56760326 -8.33896191  8.21608089  5.60386739\n",
      "  1.06238971 -3.83397883  9.92769158]\n",
      "\n",
      "Array with negative values replaced by their absolute values:\n",
      "[6.5895412  4.0950252  6.81831989 5.90647672 0.4966918  7.29010514\n",
      " 9.69238474 7.60448227 9.56760326 8.33896191 8.21608089 5.60386739\n",
      " 1.06238971 3.83397883 9.92769158]\n"
     ]
    }
   ],
   "source": [
    "# Assignment 2, Exerc. 4 : Create a 1D numpy array of size 15 with random floats between -10 and 10. Replace all negative values with their absolute values.\n",
    "\n",
    "# Creating a 1D NumPy array of size 15 with random floats between -10 and 10\n",
    "array_1d = np.random.uniform(-10, 10, 15)\n",
    "\n",
    "print(\"Original Array:\")\n",
    "print(array_1d)\n",
    "\n",
    "# Replacing negative values with their absolute values\n",
    "array_1d = np.abs(array_1d)\n",
    "\n",
    "print(\"\\nArray with negative values replaced by their absolute values:\")\n",
    "print(array_1d)\n"
   ]
  },
  {
   "cell_type": "code",
   "execution_count": 6,
   "metadata": {},
   "outputs": [
    {
     "name": "stdout",
     "output_type": "stream",
     "text": [
      "2D Array:\n",
      "[[22 54 15  4]\n",
      " [ 3 97 51 46]\n",
      " [10 33 69 56]]\n",
      "\n",
      "Sum of all elements in the array: 460\n"
     ]
    }
   ],
   "source": [
    "# Assignment 2, Exerc. 5 :  Create a 2D numpy array of size 3x4 with random integers between 1 and 100. Calculate the sum of all elements in the array.\n",
    "\n",
    "# Creating a 3x4 2D NumPy array with random integers between 1 and 100\n",
    "array_2d = np.random.randint(1, 101, size=(3, 4))\n",
    "\n",
    "print(\"2D Array:\")\n",
    "print(array_2d)\n",
    "\n",
    "# Calculating the sum of all elements in the array\n",
    "total_sum = np.sum(array_2d)\n",
    "\n",
    "print(\"\\nSum of all elements in the array:\", total_sum)\n"
   ]
  },
  {
   "cell_type": "code",
   "execution_count": 7,
   "metadata": {},
   "outputs": [
    {
     "name": "stdout",
     "output_type": "stream",
     "text": [
      "Original Array:\n",
      "[[0.81651621 0.84041048 0.6951419  0.28924512 0.83295372 0.52487803]\n",
      " [0.54045995 0.13178863 0.55485918 0.8421119  0.49312476 0.16577913]\n",
      " [0.55915803 0.39667277 0.01910855 0.55131404 0.17843916 0.2500738 ]\n",
      " [0.10405238 0.85265374 0.91032531 0.53804761 0.11291244 0.44532664]]\n",
      "\n",
      "Normalized Array:\n",
      "[[ 1.21703126  0.93185616  0.45694602 -1.35815418  1.49774225  1.23418438]\n",
      " [ 0.13837341 -1.38486763  0.03040702  1.46539144  0.31019976 -1.2505949 ]\n",
      " [ 0.21143398 -0.51887204 -1.59857859 -0.01974213 -0.78947846 -0.66731922]\n",
      " [-1.56683866  0.97188351  1.11122556 -0.08749513 -1.01846355  0.68372974]]\n"
     ]
    }
   ],
   "source": [
    "# Assignment 2, Exerc. 7 : Create a 2D numpy array of size 4x6 with random floats between 0 and 1. Normalize each column by subtracting the column mean and dividing by the column standard deviation.\n",
    "\n",
    "# Creating a 4x6 2D NumPy array with random floats between 0 and 1\n",
    "array_2d = np.random.random((4, 6))\n",
    "\n",
    "print(\"Original Array:\")\n",
    "print(array_2d)\n",
    "\n",
    "# Calculating the mean and standard deviation of each column\n",
    "column_means = np.mean(array_2d, axis=0)\n",
    "column_stddevs = np.std(array_2d, axis=0)\n",
    "\n",
    "# Normalizing each column\n",
    "normalized_array = (array_2d - column_means) / column_stddevs\n",
    "\n",
    "print(\"\\nNormalized Array:\")\n",
    "print(normalized_array)\n"
   ]
  },
  {
   "cell_type": "code",
   "execution_count": 9,
   "metadata": {},
   "outputs": [
    {
     "name": "stdout",
     "output_type": "stream",
     "text": [
      "Original Array:\n",
      "[[ 19  18  23  28   2  29 100   2  80  82]\n",
      " [ 45  27   2   9  69  95   4   2  46   1]\n",
      " [ 44  69  47  74  18  99  58   3  47  93]\n",
      " [ 84  53  36  68   3  56  91   5  73  69]\n",
      " [ 77  34  14   6  39  62  30  51  18  93]\n",
      " [ 58  83   1  96  75   1  28  83  62  81]\n",
      " [ 63  44  63  85  60  34  98  69  65  16]\n",
      " [ 57  57  65  53  68  11  40  47  63  11]\n",
      " [ 33  73  51  81  32  77  76  30  99  49]\n",
      " [ 99  15  39   9  55  77   7   1  93  99]]\n",
      "\n",
      "Binary Array (values > 50 replaced with 1, others with 0):\n",
      "[[0 0 0 0 0 0 1 0 1 1]\n",
      " [0 0 0 0 1 1 0 0 0 0]\n",
      " [0 1 0 1 0 1 1 0 0 1]\n",
      " [1 1 0 1 0 1 1 0 1 1]\n",
      " [1 0 0 0 0 1 0 1 0 1]\n",
      " [1 1 0 1 1 0 0 1 1 1]\n",
      " [1 0 1 1 1 0 1 1 1 0]\n",
      " [1 1 1 1 1 0 0 0 1 0]\n",
      " [0 1 1 1 0 1 1 0 1 0]\n",
      " [1 0 0 0 1 1 0 0 1 1]]\n"
     ]
    }
   ],
   "source": [
    "# Assignment 2, Exerc. 8 : Create a 2D numpy array of size 10x10 with random integers between 1 and 100. Replace all values greater than 50 with 1 and all other values with 0.\n",
    "\n",
    "# Creating a 10x10 2D NumPy array with random integers between 1 and 100\n",
    "array_2d = np.random.randint(1, 101, size=(10, 10))\n",
    "\n",
    "print(\"Original Array:\")\n",
    "print(array_2d)\n",
    "\n",
    "# Replacing values greater than 50 with 1 and others with 0\n",
    "binary_array = np.where(array_2d > 50, 1, 0)\n",
    "\n",
    "print(\"\\nBinary Array (values > 50 replaced with 1, others with 0):\")\n",
    "print(binary_array)\n"
   ]
  },
  {
   "cell_type": "code",
   "execution_count": 14,
   "metadata": {},
   "outputs": [
    {
     "name": "stdout",
     "output_type": "stream",
     "text": [
      "Original Array:\n",
      "[0.4091697  0.46849281 0.5805579  0.92891344 0.95121596 0.94069214\n",
      " 0.52399329 0.95688808 0.12732635 0.25768235 0.16492533 0.88272699\n",
      " 0.6405396  0.36268187 0.15949937 0.58730881 0.86683651 0.64731204\n",
      " 0.83012101 0.74806593 0.06731663 0.02756846 0.78261487 0.97505509\n",
      " 0.73867743 0.08161799 0.0759106  0.07413288 0.25617491 0.31766405\n",
      " 0.87036092 0.17611611 0.75986361 0.49754298 0.1370223  0.13688929\n",
      " 0.46732293 0.98315616 0.7949391  0.12924214 0.2201473  0.11518609\n",
      " 0.93900266 0.01921679 0.02517919 0.51381434 0.52671014 0.77575985\n",
      " 0.44452108 0.45478781]\n",
      "\n",
      "Number of elements greater than 0.5: 24\n"
     ]
    }
   ],
   "source": [
    "# Assignment 2, Exerc. 9 : Create a 1D numpy array of size 50 with random floats between 0 and 1. Find the number of elements greater than 0.5.\n",
    "\n",
    "# Creating a 1D NumPy array of size 50 with random floats between 0 and 1\n",
    "array_1d = np.random.random(50)\n",
    "\n",
    "print(\"Original Array:\")\n",
    "print(array_1d)\n",
    "\n",
    "# Counting the number of elements greater than 0.5\n",
    "count_greater_than_0_5 = np.sum(array_1d > 0.5)\n",
    "\n",
    "print(\"\\nNumber of elements greater than 0.5:\", count_greater_than_0_5)\n"
   ]
  },
  {
   "cell_type": "code",
   "execution_count": 15,
   "metadata": {},
   "outputs": [
    {
     "name": "stdout",
     "output_type": "stream",
     "text": [
      "Original Array:\n",
      "[[-0.60265148 -0.45541373  0.33934554 -0.70257156 -0.55542329]\n",
      " [-0.30848585  0.06515634  0.01879853 -0.47675832 -0.59412685]\n",
      " [ 0.16806588 -0.75512731  0.64541642 -0.42679568 -0.05509605]\n",
      " [-0.0017425  -0.96013622  0.97793322  0.78039648 -0.05911913]\n",
      " [ 0.68755714  0.49105338 -0.02896776  0.66404762 -0.96975819]]\n",
      "\n",
      "Absolute difference between max and min values in each row:\n",
      "[1.04191711 0.65928319 1.40054374 1.93806943 1.65731534]\n"
     ]
    }
   ],
   "source": [
    "# Assignment 2, Exerc. 10 : Create a 2D numpy array of size 5x5 with random floats between -1 and 1. Find the absolute difference between the maximum and minimum values in each row.\n",
    "\n",
    "# Create a 5x5 2D NumPy array with random floats between -1 and 1\n",
    "array_2d = np.random.uniform(-1, 1, size=(5, 5))\n",
    "\n",
    "print(\"Original Array:\")\n",
    "print(array_2d)\n",
    "\n",
    "# Find the absolute difference between the maximum and minimum values in each row\n",
    "absolute_diff_row = np.abs(np.max(array_2d, axis=1) - np.min(array_2d, axis=1))\n",
    "\n",
    "print(\"\\nAbsolute difference between max and min values in each row:\")\n",
    "print(absolute_diff_row)\n"
   ]
  }
 ],
 "metadata": {
  "kernelspec": {
   "display_name": "base",
   "language": "python",
   "name": "python3"
  },
  "language_info": {
   "codemirror_mode": {
    "name": "ipython",
    "version": 3
   },
   "file_extension": ".py",
   "mimetype": "text/x-python",
   "name": "python",
   "nbconvert_exporter": "python",
   "pygments_lexer": "ipython3",
   "version": "3.11.5"
  }
 },
 "nbformat": 4,
 "nbformat_minor": 2
}
