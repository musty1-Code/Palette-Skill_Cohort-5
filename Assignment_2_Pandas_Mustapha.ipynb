{
 "cells": [
  {
   "cell_type": "code",
   "execution_count": 2,
   "metadata": {},
   "outputs": [],
   "source": [
    "import random\n",
    "import pandas as pd\n",
    "\n",
    "# Define the range for longitude and latitude\n",
    "lon_range = (-105, -100)\n",
    "lat_range = (50, 52)\n",
    "\n",
    "# Define the list of soil types\n",
    "soil_types = ['black', 'gray', 'dark brown', 'brown', None]\n",
    "\n",
    "# Create an empty list to store the farms\n",
    "farms = []\n",
    "\n",
    "# Generate 40 farms\n",
    "for i in range(1000):\n",
    "    farm = {\n",
    "        'farm_name': f'Farm {i+1}', # f is formated string\n",
    "        'farm_lon': round(random.uniform(lon_range[0], lon_range[1]), 2), # random lon with 2 decimal points\n",
    "        'farm_lat': round(random.uniform(lat_range[0], lat_range[1]), 2), # rantom lat with 2 decimal points\n",
    "        'temperature': round(random.uniform(18, 33), 1), #random temp with 1 decimal points\n",
    "        'precipitation': round(random.uniform(20, 90), 1), # random prec with 1 decimal points\n",
    "        'soil_type': random.choice(soil_types) # random soil types from above list\n",
    "    }\n",
    "    farms.append(farm)\n",
    "    df=pd.DataFrame(farms)"
   ]
  },
  {
   "cell_type": "code",
   "execution_count": 3,
   "metadata": {},
   "outputs": [
    {
     "data": {
      "text/html": [
       "<div>\n",
       "<style scoped>\n",
       "    .dataframe tbody tr th:only-of-type {\n",
       "        vertical-align: middle;\n",
       "    }\n",
       "\n",
       "    .dataframe tbody tr th {\n",
       "        vertical-align: top;\n",
       "    }\n",
       "\n",
       "    .dataframe thead th {\n",
       "        text-align: right;\n",
       "    }\n",
       "</style>\n",
       "<table border=\"1\" class=\"dataframe\">\n",
       "  <thead>\n",
       "    <tr style=\"text-align: right;\">\n",
       "      <th></th>\n",
       "      <th>farm_name</th>\n",
       "      <th>farm_lon</th>\n",
       "      <th>farm_lat</th>\n",
       "      <th>temperature</th>\n",
       "      <th>precipitation</th>\n",
       "      <th>soil_type</th>\n",
       "    </tr>\n",
       "  </thead>\n",
       "  <tbody>\n",
       "    <tr>\n",
       "      <th>0</th>\n",
       "      <td>Farm 1</td>\n",
       "      <td>-102.99</td>\n",
       "      <td>51.29</td>\n",
       "      <td>27.4</td>\n",
       "      <td>74.0</td>\n",
       "      <td>dark brown</td>\n",
       "    </tr>\n",
       "    <tr>\n",
       "      <th>1</th>\n",
       "      <td>Farm 2</td>\n",
       "      <td>-101.96</td>\n",
       "      <td>50.20</td>\n",
       "      <td>29.0</td>\n",
       "      <td>69.1</td>\n",
       "      <td>None</td>\n",
       "    </tr>\n",
       "    <tr>\n",
       "      <th>2</th>\n",
       "      <td>Farm 3</td>\n",
       "      <td>-104.14</td>\n",
       "      <td>50.56</td>\n",
       "      <td>23.0</td>\n",
       "      <td>77.8</td>\n",
       "      <td>None</td>\n",
       "    </tr>\n",
       "    <tr>\n",
       "      <th>3</th>\n",
       "      <td>Farm 4</td>\n",
       "      <td>-101.11</td>\n",
       "      <td>50.96</td>\n",
       "      <td>18.4</td>\n",
       "      <td>67.1</td>\n",
       "      <td>None</td>\n",
       "    </tr>\n",
       "    <tr>\n",
       "      <th>4</th>\n",
       "      <td>Farm 5</td>\n",
       "      <td>-102.45</td>\n",
       "      <td>50.82</td>\n",
       "      <td>23.7</td>\n",
       "      <td>61.6</td>\n",
       "      <td>brown</td>\n",
       "    </tr>\n",
       "  </tbody>\n",
       "</table>\n",
       "</div>"
      ],
      "text/plain": [
       "  farm_name  farm_lon  farm_lat  temperature  precipitation   soil_type\n",
       "0    Farm 1   -102.99     51.29         27.4           74.0  dark brown\n",
       "1    Farm 2   -101.96     50.20         29.0           69.1        None\n",
       "2    Farm 3   -104.14     50.56         23.0           77.8        None\n",
       "3    Farm 4   -101.11     50.96         18.4           67.1        None\n",
       "4    Farm 5   -102.45     50.82         23.7           61.6       brown"
      ]
     },
     "execution_count": 3,
     "metadata": {},
     "output_type": "execute_result"
    }
   ],
   "source": [
    " df=pd.DataFrame(farms)\n",
    "\n",
    "# df.head first 5 rows\n",
    "df.head()"
   ]
  },
  {
   "cell_type": "code",
   "execution_count": 4,
   "metadata": {},
   "outputs": [
    {
     "name": "stdout",
     "output_type": "stream",
     "text": [
      "Rows where temperature is above 20 degrees Celsius:\n",
      "     farm_name  farm_lon  farm_lat  temperature  precipitation soil_type\n",
      "0       Farm 1   -101.41     51.77         25.9           86.0      None\n",
      "1       Farm 2   -103.91     51.47         20.4           43.2      gray\n",
      "2       Farm 3   -100.55     50.36         30.0           39.4     brown\n",
      "3       Farm 4   -100.40     51.16         21.2           57.8     black\n",
      "4       Farm 5   -101.77     50.83         29.2           62.9     brown\n",
      "..         ...       ...       ...          ...            ...       ...\n",
      "995   Farm 996   -101.20     51.99         23.5           47.1     black\n",
      "996   Farm 997   -104.43     50.44         26.6           36.8      gray\n",
      "997   Farm 998   -102.66     51.60         25.2           86.5      None\n",
      "998   Farm 999   -102.11     50.85         32.0           84.3      None\n",
      "999  Farm 1000   -102.87     51.78         21.0           21.4     brown\n",
      "\n",
      "[870 rows x 6 columns]\n"
     ]
    }
   ],
   "source": [
    "# Assignment 2 Pandas, Exerc. 1 : Select the rows where the temperature is above 20 degrees Celsius.\n",
    "\n",
    "import random\n",
    "import pandas as pd\n",
    "\n",
    "# Defining the range for longitude and latitude\n",
    "lon_range = (-105, -100)\n",
    "lat_range = (50, 52)\n",
    "\n",
    "# Defining the list of soil types\n",
    "soil_types = ['black', 'gray', 'dark brown', 'brown', None]\n",
    "\n",
    "# Creating an empty list to store the farms\n",
    "farms = []\n",
    "\n",
    "# Generating 40 farms\n",
    "for i in range(1000):\n",
    "    farm = {\n",
    "        'farm_name': f'Farm {i+1}', # f is formated string\n",
    "        'farm_lon': round(random.uniform(lon_range[0], lon_range[1]), 2), # random lon with 2 decimal points\n",
    "        'farm_lat': round(random.uniform(lat_range[0], lat_range[1]), 2), # rantom lat with 2 decimal points\n",
    "        'temperature': round(random.uniform(18, 33), 1), #random temp with 1 decimal points\n",
    "        'precipitation': round(random.uniform(20, 90), 1), # random prec with 1 decimal points\n",
    "        'soil_type': random.choice(soil_types) # random soil types from above list\n",
    "    }\n",
    "    farms.append(farm)\n",
    "    df=pd.DataFrame(farms)\n",
    "\n",
    "temperature_above_20 = df[df['temperature'] > 20]\n",
    "\n",
    "print(\"Rows where temperature is above 20 degrees Celsius:\")\n",
    "print(temperature_above_20)"
   ]
  },
  {
   "cell_type": "code",
   "execution_count": 5,
   "metadata": {},
   "outputs": [
    {
     "name": "stdout",
     "output_type": "stream",
     "text": [
      "DataFrame sorted by precipitation in descending order:\n",
      "    farm_name  farm_lon  farm_lat  temperature  precipitation   soil_type\n",
      "625  Farm 626   -103.69     50.41         22.3           89.9        None\n",
      "211  Farm 212   -100.98     51.57         24.7           89.9  dark brown\n",
      "571  Farm 572   -104.46     50.44         27.9           89.8        None\n",
      "623  Farm 624   -101.03     51.05         25.0           89.4       black\n",
      "974  Farm 975   -104.75     50.93         32.3           89.4       black\n",
      "..        ...       ...       ...          ...            ...         ...\n",
      "929  Farm 930   -101.72     50.90         31.1           20.2       brown\n",
      "458  Farm 459   -100.11     51.16         18.6           20.1       black\n",
      "454  Farm 455   -100.75     50.79         19.0           20.1        None\n",
      "517  Farm 518   -104.64     50.46         30.1           20.1       brown\n",
      "436  Farm 437   -103.98     51.38         32.9           20.1       brown\n",
      "\n",
      "[1000 rows x 6 columns]\n"
     ]
    }
   ],
   "source": [
    "# Assignment 2 Pandas, Exerc. 2 : Sort the DataFrame by precipitation in descending order.\n",
    "\n",
    "# Sorting the DataFrame by precipitation in descending order\n",
    "sorted_df = df.sort_values(by='precipitation', ascending=False)\n",
    "\n",
    "print(\"DataFrame sorted by precipitation in descending order:\")\n",
    "print(sorted_df)"
   ]
  },
  {
   "cell_type": "code",
   "execution_count": 6,
   "metadata": {},
   "outputs": [
    {
     "name": "stdout",
     "output_type": "stream",
     "text": [
      "Filtered DataFrame with farms within latitude range (51.00 - 51.15):\n",
      "    farm_name  farm_lon  farm_lat  temperature  precipitation   soil_type\n",
      "5      Farm 6   -102.86     51.06         32.1           71.4  dark brown\n",
      "7      Farm 8   -103.74     51.10         24.2           64.1  dark brown\n",
      "10    Farm 11   -100.06     51.11         31.2           31.9        gray\n",
      "34    Farm 35   -100.07     51.15         28.5           69.0        None\n",
      "42    Farm 43   -104.28     51.02         29.6           37.3        gray\n",
      "..        ...       ...       ...          ...            ...         ...\n",
      "923  Farm 924   -101.84     51.00         28.3           75.1        None\n",
      "928  Farm 929   -102.41     51.10         18.1           44.9       brown\n",
      "931  Farm 932   -101.19     51.05         20.9           71.2       brown\n",
      "934  Farm 935   -101.93     51.05         18.7           63.6       black\n",
      "944  Farm 945   -101.40     51.03         21.0           85.7       brown\n",
      "\n",
      "[81 rows x 6 columns]\n"
     ]
    }
   ],
   "source": [
    "# Assignment 2 Pandas, Exerc. 3 : Filter the DataFrame to include only the farms located within latitude (51.15 & 51.00) range.\n",
    "\n",
    "# Filtering the DataFrame to include only farms within latitude range (51.00 - 51.15)\n",
    "filtered_df = df[(df['farm_lat'] >= 51.00) & (df['farm_lat'] <= 51.15)]\n",
    "\n",
    "print(\"Filtered DataFrame with farms within latitude range (51.00 - 51.15):\")\n",
    "print(filtered_df)"
   ]
  },
  {
   "cell_type": "code",
   "execution_count": 7,
   "metadata": {},
   "outputs": [
    {
     "name": "stdout",
     "output_type": "stream",
     "text": [
      "Standard deviation of precipitation for each soil_type:\n",
      "soil_type\n",
      "black         20.070193\n",
      "brown         20.855278\n",
      "dark brown    18.936545\n",
      "gray          19.215045\n",
      "Name: precipitation, dtype: float64\n"
     ]
    }
   ],
   "source": [
    "# Assignment 2 Pandas, Exerc. 4 : Calculate the standard deviation of precipitation for each soil type.\n",
    "\n",
    "# Calculating the standard deviation of precipitation for each soil_type\n",
    "std_dev_by_soil_type = df.groupby('soil_type')['precipitation'].std()\n",
    "\n",
    "print(\"Standard deviation of precipitation for each soil_type:\")\n",
    "print(std_dev_by_soil_type)"
   ]
  },
  {
   "cell_type": "code",
   "execution_count": 8,
   "metadata": {},
   "outputs": [
    {
     "name": "stdout",
     "output_type": "stream",
     "text": [
      "DataFrame with cumulative sum of precipitation for each soil_type:\n",
      "     farm_name  farm_lon  farm_lat  temperature  precipitation soil_type  \\\n",
      "0       Farm 1   -101.41     51.77         25.9           86.0      None   \n",
      "1       Farm 2   -103.91     51.47         20.4           43.2      gray   \n",
      "2       Farm 3   -100.55     50.36         30.0           39.4     brown   \n",
      "3       Farm 4   -100.40     51.16         21.2           57.8     black   \n",
      "4       Farm 5   -101.77     50.83         29.2           62.9     brown   \n",
      "..         ...       ...       ...          ...            ...       ...   \n",
      "995   Farm 996   -101.20     51.99         23.5           47.1     black   \n",
      "996   Farm 997   -104.43     50.44         26.6           36.8      gray   \n",
      "997   Farm 998   -102.66     51.60         25.2           86.5      None   \n",
      "998   Farm 999   -102.11     50.85         32.0           84.3      None   \n",
      "999  Farm 1000   -102.87     51.78         21.0           21.4     brown   \n",
      "\n",
      "     cumulative_precipitation  \n",
      "0                         NaN  \n",
      "1                        43.2  \n",
      "2                        39.4  \n",
      "3                        57.8  \n",
      "4                       102.3  \n",
      "..                        ...  \n",
      "995                   11573.3  \n",
      "996                   11076.1  \n",
      "997                       NaN  \n",
      "998                       NaN  \n",
      "999                   11638.1  \n",
      "\n",
      "[1000 rows x 7 columns]\n"
     ]
    }
   ],
   "source": [
    "# Assignment 2 Pandas, Exerc. 5 : Calculate the cumulative sum of precipitation for each soil type.\n",
    "\n",
    "# Calculating the cumulative sum of precipitation for each soil_type\n",
    "cumulative_sum_by_soil_type = df.groupby('soil_type')['precipitation'].cumsum()\n",
    "\n",
    "# Adding the cumulative sum as a new column to the DataFrame\n",
    "df['cumulative_precipitation'] = cumulative_sum_by_soil_type\n",
    "\n",
    "print(\"DataFrame with cumulative sum of precipitation for each soil_type:\")\n",
    "print(df)"
   ]
  },
  {
   "cell_type": "code",
   "execution_count": 9,
   "metadata": {},
   "outputs": [
    {
     "name": "stdout",
     "output_type": "stream",
     "text": [
      "Top 3 farm names with the highest average temperature:\n",
      "farm_name\n",
      "Farm 442    33.0\n",
      "Farm 458    33.0\n",
      "Farm 682    33.0\n",
      "Name: temperature, dtype: float64\n"
     ]
    }
   ],
   "source": [
    "# Assignment 2 Pandas, Exerc. 6 : Determine the top 3 farms with the highest average temperature.\n",
    "\n",
    "# Determining the top 3 farm names with the highest average temperature\n",
    "top_3_farms = df.groupby('farm_name')['temperature'].mean().nlargest(3)\n",
    "\n",
    "print(\"Top 3 farm names with the highest average temperature:\")\n",
    "print(top_3_farms)"
   ]
  },
  {
   "cell_type": "code",
   "execution_count": 10,
   "metadata": {},
   "outputs": [
    {
     "name": "stdout",
     "output_type": "stream",
     "text": [
      "Farm names in each soil_type that have the highest temperature:\n",
      "      soil_type farm_name  temperature\n",
      "938       black  Farm 939         33.0\n",
      "681       brown  Farm 682         33.0\n",
      "457  dark brown  Farm 458         33.0\n",
      "441        gray  Farm 442         33.0\n"
     ]
    }
   ],
   "source": [
    "# Assignment 2 Pandas, Exerc. 7 : Find famrs in each soil type that have the highest temperature.\n",
    "\n",
    "# Finding farm names in each soil type that have the highest temperature\n",
    "result = df.loc[df.groupby('soil_type')['temperature'].idxmax()][['soil_type', 'farm_name', 'temperature']]\n",
    "\n",
    "print(\"Farm names in each soil_type that have the highest temperature:\")\n",
    "print(result)"
   ]
  },
  {
   "cell_type": "code",
   "execution_count": 11,
   "metadata": {},
   "outputs": [
    {
     "name": "stdout",
     "output_type": "stream",
     "text": [
      "DataFrame with percentage contribution of each farm's precipitation:\n",
      "     farm_name  farm_lon  farm_lat  temperature  precipitation soil_type  \\\n",
      "0       Farm 1   -101.41     51.77         25.9           86.0      None   \n",
      "1       Farm 2   -103.91     51.47         20.4           43.2      gray   \n",
      "2       Farm 3   -100.55     50.36         30.0           39.4     brown   \n",
      "3       Farm 4   -100.40     51.16         21.2           57.8     black   \n",
      "4       Farm 5   -101.77     50.83         29.2           62.9     brown   \n",
      "..         ...       ...       ...          ...            ...       ...   \n",
      "995   Farm 996   -101.20     51.99         23.5           47.1     black   \n",
      "996   Farm 997   -104.43     50.44         26.6           36.8      gray   \n",
      "997   Farm 998   -102.66     51.60         25.2           86.5      None   \n",
      "998   Farm 999   -102.11     50.85         32.0           84.3      None   \n",
      "999  Farm 1000   -102.87     51.78         21.0           21.4     brown   \n",
      "\n",
      "     cumulative_precipitation  percentage_tot_prec  \n",
      "0                         NaN             0.158325  \n",
      "1                        43.2             0.079531  \n",
      "2                        39.4             0.072535  \n",
      "3                        57.8             0.106409  \n",
      "4                       102.3             0.115798  \n",
      "..                        ...                  ...  \n",
      "995                   11573.3             0.086711  \n",
      "996                   11076.1             0.067749  \n",
      "997                       NaN             0.159246  \n",
      "998                       NaN             0.155196  \n",
      "999                   11638.1             0.039397  \n",
      "\n",
      "[1000 rows x 8 columns]\n"
     ]
    }
   ],
   "source": [
    "# Assignment 2 Pandas, Exerc. 8 : Create new column 'percentage_tot_prec' and add the percentage contribution of each farm's precipitation (relative to total precipitation) to the column.\n",
    "\n",
    "# Calculating total precipitation\n",
    "total_precipitation = df['precipitation'].sum()\n",
    "\n",
    "# Adding new column \"percentage_tot_prec\" and calculate percentage contribution of each farm's precipitation\n",
    "df['percentage_tot_prec'] = (df['precipitation'] / total_precipitation) * 100\n",
    "\n",
    "print(\"DataFrame with percentage contribution of each farm's precipitation:\")\n",
    "print(df)"
   ]
  },
  {
   "cell_type": "code",
   "execution_count": 12,
   "metadata": {},
   "outputs": [
    {
     "name": "stdout",
     "output_type": "stream",
     "text": [
      "DataFrame with precipitation ranks:\n",
      "     farm_name  farm_lon  farm_lat  temperature  precipitation soil_type  \\\n",
      "0       Farm 1   -101.41     51.77         25.9           86.0      None   \n",
      "1       Farm 2   -103.91     51.47         20.4           43.2      gray   \n",
      "2       Farm 3   -100.55     50.36         30.0           39.4     brown   \n",
      "3       Farm 4   -100.40     51.16         21.2           57.8     black   \n",
      "4       Farm 5   -101.77     50.83         29.2           62.9     brown   \n",
      "..         ...       ...       ...          ...            ...       ...   \n",
      "995   Farm 996   -101.20     51.99         23.5           47.1     black   \n",
      "996   Farm 997   -104.43     50.44         26.6           36.8      gray   \n",
      "997   Farm 998   -102.66     51.60         25.2           86.5      None   \n",
      "998   Farm 999   -102.11     50.85         32.0           84.3      None   \n",
      "999  Farm 1000   -102.87     51.78         21.0           21.4     brown   \n",
      "\n",
      "     cumulative_precipitation  percentage_tot_prec  precipitation_rank  \n",
      "0                         NaN             0.158325               954.0  \n",
      "1                        43.2             0.079531               344.0  \n",
      "2                        39.4             0.072535               283.0  \n",
      "3                        57.8             0.106409               550.0  \n",
      "4                       102.3             0.115798               625.0  \n",
      "..                        ...                  ...                 ...  \n",
      "995                   11573.3             0.086711               405.0  \n",
      "996                   11076.1             0.067749               234.0  \n",
      "997                       NaN             0.159246               964.0  \n",
      "998                       NaN             0.155196               926.0  \n",
      "999                   11638.1             0.039397                22.0  \n",
      "\n",
      "[1000 rows x 9 columns]\n"
     ]
    }
   ],
   "source": [
    "# Assignment 2 Pandas, Exerc. 9 : Create a new column called \"precipitation_rank\" that ranks the farms based on their precipitation in ascending order, with ties being assigned the same rank.\n",
    "\n",
    "# Creating a new column called \"precipitation_rank\"\n",
    "df['precipitation_rank'] = df['precipitation'].rank(method='min')\n",
    "\n",
    "print(\"DataFrame with precipitation ranks:\")\n",
    "print(df)"
   ]
  },
  {
   "cell_type": "code",
   "execution_count": 13,
   "metadata": {},
   "outputs": [
    {
     "name": "stdout",
     "output_type": "stream",
     "text": [
      "DataFrame with normalized temperature column:\n",
      "     farm_name  farm_lon  farm_lat  temperature  precipitation soil_type  \\\n",
      "0       Farm 1   -101.41     51.77         25.9           86.0      None   \n",
      "1       Farm 2   -103.91     51.47         20.4           43.2      gray   \n",
      "2       Farm 3   -100.55     50.36         30.0           39.4     brown   \n",
      "3       Farm 4   -100.40     51.16         21.2           57.8     black   \n",
      "4       Farm 5   -101.77     50.83         29.2           62.9     brown   \n",
      "..         ...       ...       ...          ...            ...       ...   \n",
      "995   Farm 996   -101.20     51.99         23.5           47.1     black   \n",
      "996   Farm 997   -104.43     50.44         26.6           36.8      gray   \n",
      "997   Farm 998   -102.66     51.60         25.2           86.5      None   \n",
      "998   Farm 999   -102.11     50.85         32.0           84.3      None   \n",
      "999  Farm 1000   -102.87     51.78         21.0           21.4     brown   \n",
      "\n",
      "     cumulative_precipitation  percentage_tot_prec  precipitation_rank  \\\n",
      "0                         NaN             0.158325               954.0   \n",
      "1                        43.2             0.079531               344.0   \n",
      "2                        39.4             0.072535               283.0   \n",
      "3                        57.8             0.106409               550.0   \n",
      "4                       102.3             0.115798               625.0   \n",
      "..                        ...                  ...                 ...   \n",
      "995                   11573.3             0.086711               405.0   \n",
      "996                   11076.1             0.067749               234.0   \n",
      "997                       NaN             0.159246               964.0   \n",
      "998                       NaN             0.155196               926.0   \n",
      "999                   11638.1             0.039397                22.0   \n",
      "\n",
      "     normalized_temperature  \n",
      "0                  0.526667  \n",
      "1                  0.160000  \n",
      "2                  0.800000  \n",
      "3                  0.213333  \n",
      "4                  0.746667  \n",
      "..                      ...  \n",
      "995                0.366667  \n",
      "996                0.573333  \n",
      "997                0.480000  \n",
      "998                0.933333  \n",
      "999                0.200000  \n",
      "\n",
      "[1000 rows x 10 columns]\n"
     ]
    }
   ],
   "source": [
    "# Assignment 2 Pandas, Exerc. 10 : Normalize the temperature column to a range between 0 and 1 for each farm.\n",
    "\n",
    "# Normalizing the 'temperature' column to a range between 0 and 1 for each farm\n",
    "df['normalized_temperature'] = (df['temperature'] - df['temperature'].min()) / (df['temperature'].max() - df['temperature'].min())\n",
    "\n",
    "print(\"DataFrame with normalized temperature column:\")\n",
    "print(df)"
   ]
  },
  {
   "cell_type": "code",
   "execution_count": 14,
   "metadata": {},
   "outputs": [
    {
     "data": {
      "text/html": [
       "<div>\n",
       "<style scoped>\n",
       "    .dataframe tbody tr th:only-of-type {\n",
       "        vertical-align: middle;\n",
       "    }\n",
       "\n",
       "    .dataframe tbody tr th {\n",
       "        vertical-align: top;\n",
       "    }\n",
       "\n",
       "    .dataframe thead th {\n",
       "        text-align: right;\n",
       "    }\n",
       "</style>\n",
       "<table border=\"1\" class=\"dataframe\">\n",
       "  <thead>\n",
       "    <tr style=\"text-align: right;\">\n",
       "      <th></th>\n",
       "      <th>farm_name</th>\n",
       "      <th>farm_lon</th>\n",
       "      <th>farm_lat</th>\n",
       "      <th>temperature</th>\n",
       "      <th>precipitation</th>\n",
       "      <th>soil_type</th>\n",
       "      <th>cumulative_precipitation</th>\n",
       "      <th>percentage_tot_prec</th>\n",
       "      <th>precipitation_rank</th>\n",
       "      <th>normalized_temperature</th>\n",
       "    </tr>\n",
       "  </thead>\n",
       "  <tbody>\n",
       "    <tr>\n",
       "      <th>0</th>\n",
       "      <td>Farm 1</td>\n",
       "      <td>-101.41</td>\n",
       "      <td>51.77</td>\n",
       "      <td>25.9</td>\n",
       "      <td>86.0</td>\n",
       "      <td>None</td>\n",
       "      <td>NaN</td>\n",
       "      <td>0.158325</td>\n",
       "      <td>954.0</td>\n",
       "      <td>0.526667</td>\n",
       "    </tr>\n",
       "    <tr>\n",
       "      <th>1</th>\n",
       "      <td>Farm 2</td>\n",
       "      <td>-103.91</td>\n",
       "      <td>51.47</td>\n",
       "      <td>20.4</td>\n",
       "      <td>43.2</td>\n",
       "      <td>gray</td>\n",
       "      <td>43.2</td>\n",
       "      <td>0.079531</td>\n",
       "      <td>344.0</td>\n",
       "      <td>0.160000</td>\n",
       "    </tr>\n",
       "    <tr>\n",
       "      <th>2</th>\n",
       "      <td>Farm 3</td>\n",
       "      <td>-100.55</td>\n",
       "      <td>50.36</td>\n",
       "      <td>30.0</td>\n",
       "      <td>39.4</td>\n",
       "      <td>brown</td>\n",
       "      <td>39.4</td>\n",
       "      <td>0.072535</td>\n",
       "      <td>283.0</td>\n",
       "      <td>0.800000</td>\n",
       "    </tr>\n",
       "    <tr>\n",
       "      <th>3</th>\n",
       "      <td>Farm 4</td>\n",
       "      <td>-100.40</td>\n",
       "      <td>51.16</td>\n",
       "      <td>21.2</td>\n",
       "      <td>57.8</td>\n",
       "      <td>black</td>\n",
       "      <td>57.8</td>\n",
       "      <td>0.106409</td>\n",
       "      <td>550.0</td>\n",
       "      <td>0.213333</td>\n",
       "    </tr>\n",
       "    <tr>\n",
       "      <th>4</th>\n",
       "      <td>Farm 5</td>\n",
       "      <td>-101.77</td>\n",
       "      <td>50.83</td>\n",
       "      <td>29.2</td>\n",
       "      <td>62.9</td>\n",
       "      <td>brown</td>\n",
       "      <td>102.3</td>\n",
       "      <td>0.115798</td>\n",
       "      <td>625.0</td>\n",
       "      <td>0.746667</td>\n",
       "    </tr>\n",
       "  </tbody>\n",
       "</table>\n",
       "</div>"
      ],
      "text/plain": [
       "  farm_name  farm_lon  farm_lat  temperature  precipitation soil_type  \\\n",
       "0    Farm 1   -101.41     51.77         25.9           86.0      None   \n",
       "1    Farm 2   -103.91     51.47         20.4           43.2      gray   \n",
       "2    Farm 3   -100.55     50.36         30.0           39.4     brown   \n",
       "3    Farm 4   -100.40     51.16         21.2           57.8     black   \n",
       "4    Farm 5   -101.77     50.83         29.2           62.9     brown   \n",
       "\n",
       "   cumulative_precipitation  percentage_tot_prec  precipitation_rank  \\\n",
       "0                       NaN             0.158325               954.0   \n",
       "1                      43.2             0.079531               344.0   \n",
       "2                      39.4             0.072535               283.0   \n",
       "3                      57.8             0.106409               550.0   \n",
       "4                     102.3             0.115798               625.0   \n",
       "\n",
       "   normalized_temperature  \n",
       "0                0.526667  \n",
       "1                0.160000  \n",
       "2                0.800000  \n",
       "3                0.213333  \n",
       "4                0.746667  "
      ]
     },
     "execution_count": 14,
     "metadata": {},
     "output_type": "execute_result"
    }
   ],
   "source": [
    "# Assignment 2 ETL, Exerc. 11 : Change column types accordingly.\n",
    "\n",
    "df.head()"
   ]
  },
  {
   "cell_type": "code",
   "execution_count": 19,
   "metadata": {},
   "outputs": [
    {
     "name": "stdout",
     "output_type": "stream",
     "text": [
      "<class 'pandas.core.frame.DataFrame'>\n",
      "RangeIndex: 1000 entries, 0 to 999\n",
      "Data columns (total 10 columns):\n",
      " #   Column                    Non-Null Count  Dtype  \n",
      "---  ------                    --------------  -----  \n",
      " 0   farm_name                 1000 non-null   object \n",
      " 1   farm_lon                  1000 non-null   float64\n",
      " 2   farm_lat                  1000 non-null   float64\n",
      " 3   temperature               1000 non-null   float64\n",
      " 4   precipitation             1000 non-null   float64\n",
      " 5   soil_type                 819 non-null    object \n",
      " 6   cumulative_precipitation  819 non-null    float64\n",
      " 7   percentage_tot_prec       1000 non-null   float64\n",
      " 8   precipitation_rank        1000 non-null   float64\n",
      " 9   normalized_temperature    1000 non-null   float64\n",
      "dtypes: float64(8), object(2)\n",
      "memory usage: 78.3+ KB\n"
     ]
    }
   ],
   "source": [
    "df.info()"
   ]
  },
  {
   "cell_type": "code",
   "execution_count": 33,
   "metadata": {},
   "outputs": [],
   "source": [
    "# Changing farm_name and soil_type columns data type from object to string\n",
    "\n",
    "df['farm_name'] = df['farm_name'].astype('string')\n",
    "df['soil_type'] = df['soil_type'].astype('string')"
   ]
  },
  {
   "cell_type": "code",
   "execution_count": 21,
   "metadata": {},
   "outputs": [
    {
     "name": "stdout",
     "output_type": "stream",
     "text": [
      "<class 'pandas.core.frame.DataFrame'>\n",
      "RangeIndex: 1000 entries, 0 to 999\n",
      "Data columns (total 10 columns):\n",
      " #   Column                    Non-Null Count  Dtype  \n",
      "---  ------                    --------------  -----  \n",
      " 0   farm_name                 1000 non-null   string \n",
      " 1   farm_lon                  1000 non-null   float64\n",
      " 2   farm_lat                  1000 non-null   float64\n",
      " 3   temperature               1000 non-null   float64\n",
      " 4   precipitation             1000 non-null   float64\n",
      " 5   soil_type                 819 non-null    string \n",
      " 6   cumulative_precipitation  819 non-null    float64\n",
      " 7   percentage_tot_prec       1000 non-null   float64\n",
      " 8   precipitation_rank        1000 non-null   float64\n",
      " 9   normalized_temperature    1000 non-null   float64\n",
      "dtypes: float64(8), string(2)\n",
      "memory usage: 78.3 KB\n"
     ]
    }
   ],
   "source": [
    "df.info()"
   ]
  },
  {
   "cell_type": "code",
   "execution_count": 35,
   "metadata": {},
   "outputs": [
    {
     "name": "stdout",
     "output_type": "stream",
     "text": [
      "Missing values:\n",
      "farm_name                     0\n",
      "farm_lon                      0\n",
      "farm_lat                      0\n",
      "temperature                   0\n",
      "precipitation                 0\n",
      "soil_type                   181\n",
      "cumulative_precipitation    181\n",
      "percentage_tot_prec           0\n",
      "precipitation_rank            0\n",
      "normalized_temperature        0\n",
      "dtype: int64\n",
      "\n",
      "Information on handling missing values:\n",
      "1. For missing 'farm_long' and 'farm_lat', one can consider dropping the corresponding rows or imputing the missing values using interpolation.\n",
      "2. For missing 'temperature' and 'precipitation', one might impute the missing values using the mean, median, or mode of the respective columns, or replacing with neighboring farms value.\n",
      "3. For missing 'soil_type', one might consider using forward fill (ffill) or backward fill (bfill) to fill in missing values, or use mode imputation or from neighboring farms in similar terrain.\n"
     ]
    }
   ],
   "source": [
    "# Assignment 2 EDA, Exerc. 12 : Find missing values and give information how would you handle them\n",
    "\n",
    "# Finding missing values\n",
    "missing_values = df.isnull().sum()\n",
    "\n",
    "print(\"Missing values:\")\n",
    "print(missing_values)\n",
    "\n",
    "# Information on how to handle missing values\n",
    "print(\"\\nInformation on handling missing values:\")\n",
    "print(\"1. For missing 'farm_long' and 'farm_lat', one can consider dropping the corresponding rows or imputing the missing values using interpolation.\")\n",
    "print(\"2. For missing 'temperature' and 'precipitation', one might impute the missing values using the mean, median, or mode of the respective columns, or replacing with neighboring farms value.\")\n",
    "print(\"3. For missing 'soil_type', one might consider using forward fill (ffill) or backward fill (bfill) to fill in missing values, or use mode imputation or from neighboring farms in similar terrain.\")\n"
   ]
  },
  {
   "cell_type": "code",
   "execution_count": 38,
   "metadata": {},
   "outputs": [
    {
     "data": {
      "text/plain": [
       "<Axes: >"
      ]
     },
     "execution_count": 38,
     "metadata": {},
     "output_type": "execute_result"
    }
   ],
   "source": [
    "# Outlier analysis\n",
    "df.drop(columns=['farm_lon', 'farm_lat']).boxplot()"
   ]
  },
  {
   "cell_type": "code",
   "execution_count": 37,
   "metadata": {},
   "outputs": [
    {
     "data": {
      "image/png": "[encoded data removed]",
      "text/plain": [
       "<Figure size 640x480 with 1 Axes>"
      ]
     },
     "metadata": {},
     "output_type": "display_data"
    },
    {
     "data": {
      "image/png": "[encoded data removed]",
      "text/plain": [
       "<Figure size 1000x600 with 2 Axes>"
      ]
     },
     "metadata": {},
     "output_type": "display_data"
    },
    {
     "name": "stdout",
     "output_type": "stream",
     "text": [
      "\n",
      "Handling outliers:\n",
      "- Investigate the outliers to understand if they are errors or valid data points.\n",
      "- If they are errors, one need to consider removing them from the dataset.\n",
      "- If they are valid but extreme data points, one need to consider transforming them (e.g., winsorization) or using robust statistical methods.\n"
     ]
    }
   ],
   "source": [
    "# Assignment 2 EDA, Exerc. 13 : Find outliers if there is any how would you handle them\n",
    "\n",
    "# Define columns to check for outliers (assuming 'temperature' and 'precipitation')\n",
    "\n",
    "import seaborn as sns\n",
    "columns_to_check = ['temperature', 'precipitation']\n",
    "\n",
    "# Create boxplots to visualize outliers\n",
    "plt.figure(figsize=(10, 6))\n",
    "for i, col in enumerate(columns_to_check, 1):\n",
    "    plt.subplot(1, len(columns_to_check), i)\n",
    "    sns.boxplot(y=df[col])\n",
    "    plt.title(f'Boxplot of {col}')\n",
    "plt.tight_layout()\n",
    "plt.show()\n",
    "\n",
    "# Handling outliers:\n",
    "print(\"\\nHandling outliers:\")\n",
    "print(\"- Investigate the outliers to understand if they are errors or valid data points.\")\n",
    "print(\"- If they are errors, one need to consider removing them from the dataset.\")\n",
    "print(\"- If they are valid but extreme data points, one need to consider transforming them (e.g., winsorization) or using robust statistical methods.\")"
   ]
  },
  {
   "cell_type": "code",
   "execution_count": 39,
   "metadata": {},
   "outputs": [
    {
     "data": {
      "text/html": [
       "<div>\n",
       "<style scoped>\n",
       "    .dataframe tbody tr th:only-of-type {\n",
       "        vertical-align: middle;\n",
       "    }\n",
       "\n",
       "    .dataframe tbody tr th {\n",
       "        vertical-align: top;\n",
       "    }\n",
       "\n",
       "    .dataframe thead th {\n",
       "        text-align: right;\n",
       "    }\n",
       "</style>\n",
       "<table border=\"1\" class=\"dataframe\">\n",
       "  <thead>\n",
       "    <tr style=\"text-align: right;\">\n",
       "      <th></th>\n",
       "      <th>count</th>\n",
       "      <th>mean</th>\n",
       "      <th>std</th>\n",
       "      <th>min</th>\n",
       "      <th>25%</th>\n",
       "      <th>50%</th>\n",
       "      <th>75%</th>\n",
       "      <th>max</th>\n",
       "    </tr>\n",
       "  </thead>\n",
       "  <tbody>\n",
       "    <tr>\n",
       "      <th>farm_lon</th>\n",
       "      <td>1000.0</td>\n",
       "      <td>-102.507490</td>\n",
       "      <td>1.452048</td>\n",
       "      <td>-105.000000</td>\n",
       "      <td>-103.762500</td>\n",
       "      <td>-102.545000</td>\n",
       "      <td>-101.267500</td>\n",
       "      <td>-100.010000</td>\n",
       "    </tr>\n",
       "    <tr>\n",
       "      <th>farm_lat</th>\n",
       "      <td>1000.0</td>\n",
       "      <td>50.990530</td>\n",
       "      <td>0.570750</td>\n",
       "      <td>50.000000</td>\n",
       "      <td>50.500000</td>\n",
       "      <td>50.970000</td>\n",
       "      <td>51.480000</td>\n",
       "      <td>52.000000</td>\n",
       "    </tr>\n",
       "    <tr>\n",
       "      <th>temperature</th>\n",
       "      <td>1000.0</td>\n",
       "      <td>25.611000</td>\n",
       "      <td>4.325912</td>\n",
       "      <td>18.000000</td>\n",
       "      <td>21.800000</td>\n",
       "      <td>25.700000</td>\n",
       "      <td>29.500000</td>\n",
       "      <td>33.000000</td>\n",
       "    </tr>\n",
       "    <tr>\n",
       "      <th>precipitation</th>\n",
       "      <td>1000.0</td>\n",
       "      <td>54.318500</td>\n",
       "      <td>19.983062</td>\n",
       "      <td>20.100000</td>\n",
       "      <td>37.800000</td>\n",
       "      <td>54.200000</td>\n",
       "      <td>71.525000</td>\n",
       "      <td>89.900000</td>\n",
       "    </tr>\n",
       "    <tr>\n",
       "      <th>cumulative_precipitation</th>\n",
       "      <td>819.0</td>\n",
       "      <td>5550.558974</td>\n",
       "      <td>3241.898514</td>\n",
       "      <td>39.400000</td>\n",
       "      <td>2752.550000</td>\n",
       "      <td>5467.400000</td>\n",
       "      <td>8302.400000</td>\n",
       "      <td>11638.100000</td>\n",
       "    </tr>\n",
       "    <tr>\n",
       "      <th>percentage_tot_prec</th>\n",
       "      <td>1000.0</td>\n",
       "      <td>0.100000</td>\n",
       "      <td>0.036789</td>\n",
       "      <td>0.037004</td>\n",
       "      <td>0.069590</td>\n",
       "      <td>0.099782</td>\n",
       "      <td>0.131677</td>\n",
       "      <td>0.165505</td>\n",
       "    </tr>\n",
       "    <tr>\n",
       "      <th>precipitation_rank</th>\n",
       "      <td>1000.0</td>\n",
       "      <td>499.743000</td>\n",
       "      <td>288.867571</td>\n",
       "      <td>1.000000</td>\n",
       "      <td>249.000000</td>\n",
       "      <td>500.000000</td>\n",
       "      <td>750.250000</td>\n",
       "      <td>999.000000</td>\n",
       "    </tr>\n",
       "    <tr>\n",
       "      <th>normalized_temperature</th>\n",
       "      <td>1000.0</td>\n",
       "      <td>0.507400</td>\n",
       "      <td>0.288394</td>\n",
       "      <td>0.000000</td>\n",
       "      <td>0.253333</td>\n",
       "      <td>0.513333</td>\n",
       "      <td>0.766667</td>\n",
       "      <td>1.000000</td>\n",
       "    </tr>\n",
       "  </tbody>\n",
       "</table>\n",
       "</div>"
      ],
      "text/plain": [
       "                           count         mean          std         min  \\\n",
       "farm_lon                  1000.0  -102.507490     1.452048 -105.000000   \n",
       "farm_lat                  1000.0    50.990530     0.570750   50.000000   \n",
       "temperature               1000.0    25.611000     4.325912   18.000000   \n",
       "precipitation             1000.0    54.318500    19.983062   20.100000   \n",
       "cumulative_precipitation   819.0  5550.558974  3241.898514   39.400000   \n",
       "percentage_tot_prec       1000.0     0.100000     0.036789    0.037004   \n",
       "precipitation_rank        1000.0   499.743000   288.867571    1.000000   \n",
       "normalized_temperature    1000.0     0.507400     0.288394    0.000000   \n",
       "\n",
       "                                  25%          50%          75%           max  \n",
       "farm_lon                  -103.762500  -102.545000  -101.267500   -100.010000  \n",
       "farm_lat                    50.500000    50.970000    51.480000     52.000000  \n",
       "temperature                 21.800000    25.700000    29.500000     33.000000  \n",
       "precipitation               37.800000    54.200000    71.525000     89.900000  \n",
       "cumulative_precipitation  2752.550000  5467.400000  8302.400000  11638.100000  \n",
       "percentage_tot_prec          0.069590     0.099782     0.131677      0.165505  \n",
       "precipitation_rank         249.000000   500.000000   750.250000    999.000000  \n",
       "normalized_temperature       0.253333     0.513333     0.766667      1.000000  "
      ]
     },
     "execution_count": 39,
     "metadata": {},
     "output_type": "execute_result"
    }
   ],
   "source": [
    "# Assignment 2 EDA, Exerc. 14 : Find descriptive statistics for relavant columns and plot them by using bars.\n",
    "\n",
    " \n",
    "df.describe().T"
   ]
  },
  {
   "cell_type": "code",
   "execution_count": 41,
   "metadata": {},
   "outputs": [
    {
     "data": {
      "image/png": "[encoded data removed]",
      "text/plain": [
       "<Figure size 640x480 with 1 Axes>"
      ]
     },
     "metadata": {},
     "output_type": "display_data"
    }
   ],
   "source": [
    "# Plotting \n",
    "df.drop(columns=['farm_lon', 'farm_lat', 'cumulative_precipitation', 'percentage_tot_prec', 'normalized_temperature']).describe().T\\\n",
    "    .drop(columns='count')\\\n",
    "    .plot(kind='bar')\n",
    "plt.title('Descriptive Statistics', color='green', fontsize=16)\n",
    "plt.xlabel('Weather', color='green',fontsize=14)\n",
    "plt.ylabel('Values', color='green', fontsize=14)\n",
    "plt.xticks(color='red', fontsize=11)\n",
    "plt.yticks(color='red')\n",
    "plt.tight_layout()\n",
    "plt.show()"
   ]
  },
  {
   "cell_type": "code",
   "execution_count": 49,
   "metadata": {},
   "outputs": [
    {
     "data": {
      "image/png": "[encoded data removed]",
      "text/plain": [
       "<Figure size 640x480 with 4 Axes>"
      ]
     },
     "metadata": {},
     "output_type": "display_data"
    }
   ],
   "source": [
    "# Assignment 2 EDA, Exerc. 15 : Plot the distribution of relevant columns.\n",
    "\n",
    "df.drop(columns=['farm_lon', 'farm_lat', 'percentage_tot_prec', 'normalized_temperature']).hist(bins=100)\n",
    "plt.tight_layout()\n",
    "plt.show()"
   ]
  }
 ],
 "metadata": {
  "kernelspec": {
   "display_name": "base",
   "language": "python",
   "name": "python3"
  },
  "language_info": {
   "codemirror_mode": {
    "name": "ipython",
    "version": 3
   },
   "file_extension": ".py",
   "mimetype": "text/x-python",
   "name": "python",
   "nbconvert_exporter": "python",
   "pygments_lexer": "ipython3",
   "version": "3.11.5"
  }
 },
 "nbformat": 4,
 "nbformat_minor": 2
}
