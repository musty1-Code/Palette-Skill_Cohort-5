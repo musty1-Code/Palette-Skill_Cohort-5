{
 "cells": [
  {
   "cell_type": "code",
   "execution_count": 1,
   "metadata": {},
   "outputs": [
    {
     "name": "stdout",
     "output_type": "stream",
     "text": [
      "Assignment 1: Solutions by Mustapha\n",
      "Local Time: 2024-02-20 19:55:25\n",
      "Computer ID: DESKTOP-U88C9OD\n"
     ]
    }
   ],
   "source": [
    "import datetime\n",
    "import socket\n",
    "\n",
    "# Get local time\n",
    "local_time = datetime.datetime.now().strftime(\"%Y-%m-%d %H:%M:%S\")\n",
    "\n",
    "# Get computer ID or hostname\n",
    "computer_id = socket.gethostname()\n",
    "\n",
    "# Print output with local time and computer ID\n",
    "print('Assignment 1: Solutions by Mustapha') # Please change your name here\n",
    "print('Local Time:', local_time)\n",
    "print('Computer ID:', computer_id)"
   ]
  },
  {
   "cell_type": "code",
   "execution_count": 1,
   "metadata": {},
   "outputs": [],
   "source": [
    "import numpy as np"
   ]
  },
  {
   "cell_type": "code",
   "execution_count": 1,
   "metadata": {},
   "outputs": [
    {
     "name": "stdout",
     "output_type": "stream",
     "text": [
      "Capitalized crop name: WHEAT\n"
     ]
    }
   ],
   "source": [
    "# Assignment 1, Exerc. 1 : Develop a function that accepts a string parameter indicating a crop name and gives back the crop name in capital letters. Hints: str, upper(), def\n",
    "\n",
    "def smallcap_cropname(cropname):\n",
    "    return cropname.upper()\n",
    "\n",
    "# Example usage:\n",
    "crop = \"wheat\"\n",
    "capitalized_crop = smallcap_cropname(crop)\n",
    "print(\"Capitalized crop name:\", capitalized_crop)"
   ]
  },
  {
   "cell_type": "code",
   "execution_count": 4,
   "metadata": {},
   "outputs": [
    {
     "name": "stdout",
     "output_type": "stream",
     "text": [
      "Total number of crops: 7\n"
     ]
    }
   ],
   "source": [
    "# Assignment 1, Exerc. 2 : Create a function that receives a list of crop names (lentil, barley, canola, spring wheat, durum wheat, oats, alfalfa) and outputs the total number of crops. Hints: list, length, def.\n",
    "\n",
    "def count_crops(crop_list):\n",
    "    totalnum_crops = len(crop_list)\n",
    "    return totalnum_crops\n",
    "\n",
    "# Example usage:\n",
    "\n",
    "crop_names = [\"lentil\", \"barley\", \"canola\", \"spring wheat\", \"durum wheat\", \"oats\", \"alfalfa\"]\n",
    "totalnum_crops = count_crops(crop_names)\n",
    "print(\"Total number of crops:\", totalnum_crops)"
   ]
  },
  {
   "cell_type": "code",
   "execution_count": null,
   "metadata": {},
   "outputs": [
    {
     "name": "stdout",
     "output_type": "stream",
     "text": [
      "25 degrees Celsius is equal to 77.0 degrees Fahrenheit.\n"
     ]
    }
   ],
   "source": [
    "# Assignment 1, Exerc. 3 : Create a function that takes a temperature in Celsius and converts it to Fahrenheit. Return the converted temperature. Keys:def, find converter.\n",
    "\n",
    "def celsius_to_fahrenheit(celsius):\n",
    "    fahrenheit = (celsius * 9/5) + 32\n",
    "    return fahrenheit\n",
    "\n",
    "# Example usage:\n",
    "celsius_temp = 25\n",
    "fahreheit_temp = celsius_to_fahrenheit(celsius_temp)\n",
    "print(f\"{celsius_temp} degrees Celsius is equal to {fahreheit_temp} degrees Fahrenheit.\")"
   ]
  },
  {
   "cell_type": "code",
   "execution_count": 5,
   "metadata": {},
   "outputs": [
    {
     "name": "stdout",
     "output_type": "stream",
     "text": [
      "Canola yield evaluation: Moderate yield\n"
     ]
    }
   ],
   "source": [
    "# Assignment 1, Exerc. 4 : Create a function that takes the yield of canola crop (in bushels) and returns a string indicating whether it's a high, moderate, or low yield. Keys: strings, if-else, print()\n",
    "\n",
    "def evaluate_canola_yield(yield_bushels):\n",
    "    if yield_bushels > 200:\n",
    "        return \"High yield\"\n",
    "    elif yield_bushels > 100:\n",
    "        return \"Moderate yield\"\n",
    "    else:\n",
    "        return \"Low yield\"\n",
    "\n",
    "# Example usage:\n",
    "canola_yield = 150\n",
    "yield_evaluation = evaluate_canola_yield(canola_yield)\n",
    "print(\"Canola yield evaluation:\", yield_evaluation)"
   ]
  },
  {
   "cell_type": "code",
   "execution_count": 6,
   "metadata": {},
   "outputs": [
    {
     "name": "stdout",
     "output_type": "stream",
     "text": [
      "Average yield of spring wheat: 70.5\n"
     ]
    }
   ],
   "source": [
    "# Assignment 1, Exerc. 5 : Create a function that takes a list of crop yields (spring wheat) and returns the average yield. Keys: list, average() or arithmetic average.\n",
    "\n",
    "def calculate_average_yield(cropyield_list):\n",
    "    total_yield = sum(cropyield_list)\n",
    "    average_yield = total_yield / len(cropyield_list)\n",
    "    return average_yield\n",
    "\n",
    "# Example usage:\n",
    "\n",
    "spring_wheat_yields = [45, 58, 62, 76, 89, 93]\n",
    "average_yield = calculate_average_yield(spring_wheat_yields)\n",
    "print(\"Average yield of spring wheat:\", average_yield)"
   ]
  },
  {
   "cell_type": "code",
   "execution_count": 11,
   "metadata": {},
   "outputs": [
    {
     "name": "stdout",
     "output_type": "stream",
     "text": [
      "For brown soil type, recommended crop is: lentil\n"
     ]
    }
   ],
   "source": [
    "# Assignment 1, Exerc. 6 : Create a function that takes the type of soil (brown, dark brown, black) as a parameter and returns a recommended crop (lentil, canola, oats) for that soil type. Keys: dict, def\n",
    "\n",
    "def recommend_crop_for_soil(soil_type):\n",
    "    soil_crop_mapping = {\n",
    "        \"brown\": \"lentil\",\n",
    "        \"dark brown\": \"canola\",\n",
    "        \"black\": \"oats\"\n",
    "    }\n",
    "\n",
    "    recommended_crop = soil_crop_mapping.get(soil_type.lower(), \"No recommendation found\")\n",
    "    return recommended_crop\n",
    "\n",
    "# Example usage:\n",
    "soil_type = \"brown\"\n",
    "recommended_crop = recommend_crop_for_soil(soil_type)\n",
    "print(f\"For {soil_type} soil type, recommended crop is: {recommended_crop}\")"
   ]
  },
  {
   "cell_type": "code",
   "execution_count": 12,
   "metadata": {},
   "outputs": [
    {
     "name": "stdout",
     "output_type": "stream",
     "text": [
      "Rotated crop list: ['oats', 'lentil', 'barley', 'canola', 'spring wheat', 'durum wheat']\n"
     ]
    }
   ],
   "source": [
    "# Assignment 1, Exerc. 7 : Create a function that takes a list of crop names (lentil, barly, canola, spring wheat, durum wheat, oats) and rotates the crops by moving the last crop to the beginning of the list. Keys: list and list index, def.\n",
    "\n",
    "def rotate_crops(crop_list):\n",
    "    if len(crop_list) > 0:\n",
    "        last_crop = crop_list.pop()  # Remove the last crop from the list\n",
    "        crop_list.insert(0, last_crop)  # Insert the last crop at the beginning of the list\n",
    "    return crop_list\n",
    "\n",
    "# Example usage:\n",
    "crop_names = [\"lentil\", \"barley\", \"canola\", \"spring wheat\", \"durum wheat\", \"oats\"]\n",
    "rotated_crops = rotate_crops(crop_names)\n",
    "print(\"Rotated crop list:\", rotated_crops)"
   ]
  },
  {
   "cell_type": "code",
   "execution_count": 13,
   "metadata": {},
   "outputs": [
    {
     "name": "stdout",
     "output_type": "stream",
     "text": [
      "Minimum rainfall: 2\n",
      "Maximum rainfall: 12\n"
     ]
    }
   ],
   "source": [
    "# Assignment 1, Exerc. 8 : Create a function that takes a list of rainfall measurements (daily mm in a week) and returns the maximum and minimum rainfall values. Keys: min(), max(), lists, def\n",
    "\n",
    "def find_min_max_rainfall(rainfall_measurements):\n",
    "    min_rainfall = min(rainfall_measurements)\n",
    "    max_rainfall = max(rainfall_measurements)\n",
    "    return min_rainfall, max_rainfall\n",
    "\n",
    "# Example usage:\n",
    "rainfall_week = [2, 12, 5, 4, 6, 3, 8]\n",
    "min_rain, max_rain = find_min_max_rainfall(rainfall_week)\n",
    "print(\"Minimum rainfall:\", min_rain)\n",
    "print(\"Maximum rainfall:\", max_rain)\n"
   ]
  },
  {
   "cell_type": "code",
   "execution_count": 14,
   "metadata": {},
   "outputs": [
    {
     "name": "stdout",
     "output_type": "stream",
     "text": [
      "Recommendation for pest control: Moderate pest count. Consider implementing cultural or biological control measures.\n"
     ]
    }
   ],
   "source": [
    "# Assignment 1, Exerc. 9 : Create a function that takes the count of pests detected in a field and returns a recommendation for pest control based on the count. Please search for pests and pest control measures. Keys: if-else statement, def\n",
    "\n",
    "def pest_control_recommendation(pest_count):\n",
    "    if pest_count == 0:\n",
    "        return \"No pests detected. No action needed.\"\n",
    "    elif pest_count <= 50:\n",
    "        return \"Low pest count. Adopt organic pest control.\"\n",
    "    elif pest_count <= 500:\n",
    "        return \"Moderate pest count. Consider implementing cultural or biological control measures.\"\n",
    "    else:\n",
    "        return \"High pest count. Apply appropriate chemical control measures.\"\n",
    "\n",
    "# Example usage:\n",
    "pest_count = 348\n",
    "recommendation = pest_control_recommendation(pest_count)\n",
    "print(\"Recommendation for pest control:\", recommendation)\n"
   ]
  },
  {
   "cell_type": "code",
   "execution_count": 15,
   "metadata": {},
   "outputs": [
    {
     "name": "stdout",
     "output_type": "stream",
     "text": [
      "For ragweed, suggested herbicide is: Glyphosate\n",
      "For thistle, suggested herbicide is: 2,4-D\n",
      "For crabgrass, suggested herbicide is: Quinclorac\n",
      "For dandelion, suggested herbicide is: Dicamba\n",
      "For foxtail, suggested herbicide is: No herbicide recommendation found\n"
     ]
    }
   ],
   "source": [
    "# Assignment 1, Exerc. 10 : Create a function that takes a list of weed names (search online) and suggests appropriate herbicides for weed control. Keys: For Loops and dictionary.\n",
    "\n",
    "def suggest_herbicides_for_weeds(weed_list):\n",
    "    \n",
    "    # Dictionary mapping weed names to appropriate herbicides\n",
    "    herbicides_mapping = {\n",
    "        \"ragweed\": \"Glyphosate\",\n",
    "        \"thistle\": \"2,4-D\",\n",
    "        \"crabgrass\": \"Quinclorac\",\n",
    "        \"dandelion\": \"Dicamba\",\n",
    "        # More weed-herbicide mappings can be needed here\n",
    "    }\n",
    "\n",
    "    suggested_herbicides = []\n",
    "    for weed in weed_list:\n",
    "        herbicide = herbicides_mapping.get(weed.lower(), \"No herbicide recommendation found\")\n",
    "        suggested_herbicides.append((weed, herbicide))\n",
    "\n",
    "    return suggested_herbicides\n",
    "\n",
    "# Example usage:\n",
    "weed_names = [\"ragweed\", \"thistle\", \"crabgrass\", \"dandelion\", \"foxtail\"]\n",
    "herbicides_suggested = suggest_herbicides_for_weeds(weed_names)\n",
    "for weed, herbicide in herbicides_suggested:\n",
    "    print(f\"For {weed}, suggested herbicide is: {herbicide}\")\n"
   ]
  }
 ],
 "metadata": {
  "kernelspec": {
   "display_name": "base",
   "language": "python",
   "name": "python3"
  },
  "language_info": {
   "codemirror_mode": {
    "name": "ipython",
    "version": 3
   },
   "file_extension": ".py",
   "mimetype": "text/x-python",
   "name": "python",
   "nbconvert_exporter": "python",
   "pygments_lexer": "ipython3",
   "version": "3.11.5"
  }
 },
 "nbformat": 4,
 "nbformat_minor": 2
}
